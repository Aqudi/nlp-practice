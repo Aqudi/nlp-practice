{
 "cells": [
  {
   "cell_type": "markdown",
   "source": [
    "# 딥 러닝을 이용한 자연어 처리 입문\r\n",
    "\r\n",
    "아래 링크의 E-book을 보고 실습한 내용입니다.\r\n",
    "\r\n",
    "WikiDocs 주소: https://wikidocs.net/31766\r\n",
    "\r\n",
    "\r\n",
    "# 5장 카운트 기반의 단어 표현\r\n",
    "\r\n",
    "## 1절 코사인 유사도 (Cosine Similarity)"
   ],
   "metadata": {}
  },
  {
   "cell_type": "markdown",
   "source": [
    "## 코사인 유사도 (Cosine Similarity)\r\n",
    "\r\n",
    "### Numpy를 이용한 Cosine similarity 계산\r\n",
    "\r\n",
    "계산결과에서 눈 여겨볼 점은 doc2와 doc3의 코사인 유사도를 구했을 때 1이 나온다는 점이다.\r\n",
    "코사인 유사도는 벡터의 방향만을 고려하기 때문에 같은 벡터로 판단한 것이다.\r\n",
    "\r\n",
    "이런 특성 덕분에 문서의 길이가 다를 때 문서의 길이가 다르다는 이유만으로 다른 문장으로\r\n",
    "판단하지 않고, 좀 더 공정하게 유사도를 계산할 수 있다는 장점이 있다."
   ],
   "metadata": {}
  },
  {
   "cell_type": "code",
   "execution_count": 1,
   "source": [
    "from numpy import dot\r\n",
    "from numpy.linalg import norm\r\n",
    "import numpy as np\r\n",
    "\r\n",
    "def cos_sim(A, B):\r\n",
    "    \"\"\"코사인 유사도를 계산하는 함수\"\"\"\r\n",
    "    return dot(A, B) / (norm(A) * norm(B))"
   ],
   "outputs": [],
   "metadata": {}
  },
  {
   "cell_type": "code",
   "execution_count": 2,
   "source": [
    "doc1 = np.array([0, 1, 1, 1])\r\n",
    "doc2 = np.array([1, 0, 1, 1])\r\n",
    "doc3 = np.array([2, 0, 2, 2])"
   ],
   "outputs": [],
   "metadata": {}
  },
  {
   "cell_type": "code",
   "execution_count": 3,
   "source": [
    "print(cos_sim(doc1, doc2))\r\n",
    "print(cos_sim(doc1, doc3))\r\n",
    "print(cos_sim(doc2, doc3))"
   ],
   "outputs": [
    {
     "output_type": "stream",
     "name": "stdout",
     "text": [
      "0.6666666666666667\n",
      "0.6666666666666667\n",
      "1.0000000000000002\n"
     ]
    }
   ],
   "metadata": {}
  },
  {
   "cell_type": "markdown",
   "source": [
    "## 코사인 유사도를 이용한 영화 추천 시스템 예제\r\n",
    "\r\n",
    "- 케글 영화 데이터셋: https://www.kaggle.com/rounakbanik/the-movies-dataset"
   ],
   "metadata": {}
  },
  {
   "cell_type": "code",
   "execution_count": 4,
   "source": [
    "import pandas as pd\r\n",
    "\r\n",
    "from sklearn.feature_extraction.text import TfidfVectorizer\r\n",
    "from sklearn.metrics.pairwise import linear_kernel"
   ],
   "outputs": [],
   "metadata": {}
  },
  {
   "cell_type": "code",
   "execution_count": 8,
   "source": [
    "# pandas로 데이터를 불러오는 과정\r\n",
    "data = pd.read_csv(\"movies_metadata.csv\", low_memory=False)\r\n",
    "\r\n",
    "# 데이터의 양을 2만개로 축소 시킨 후 실습\r\n",
    "data = data.head(20000)\r\n",
    "data.head(2)\r\n"
   ],
   "outputs": [
    {
     "output_type": "execute_result",
     "data": {
      "text/html": [
       "<div>\n",
       "<style scoped>\n",
       "    .dataframe tbody tr th:only-of-type {\n",
       "        vertical-align: middle;\n",
       "    }\n",
       "\n",
       "    .dataframe tbody tr th {\n",
       "        vertical-align: top;\n",
       "    }\n",
       "\n",
       "    .dataframe thead th {\n",
       "        text-align: right;\n",
       "    }\n",
       "</style>\n",
       "<table border=\"1\" class=\"dataframe\">\n",
       "  <thead>\n",
       "    <tr style=\"text-align: right;\">\n",
       "      <th></th>\n",
       "      <th>adult</th>\n",
       "      <th>belongs_to_collection</th>\n",
       "      <th>budget</th>\n",
       "      <th>genres</th>\n",
       "      <th>homepage</th>\n",
       "      <th>id</th>\n",
       "      <th>imdb_id</th>\n",
       "      <th>original_language</th>\n",
       "      <th>original_title</th>\n",
       "      <th>overview</th>\n",
       "      <th>...</th>\n",
       "      <th>release_date</th>\n",
       "      <th>revenue</th>\n",
       "      <th>runtime</th>\n",
       "      <th>spoken_languages</th>\n",
       "      <th>status</th>\n",
       "      <th>tagline</th>\n",
       "      <th>title</th>\n",
       "      <th>video</th>\n",
       "      <th>vote_average</th>\n",
       "      <th>vote_count</th>\n",
       "    </tr>\n",
       "  </thead>\n",
       "  <tbody>\n",
       "    <tr>\n",
       "      <th>0</th>\n",
       "      <td>False</td>\n",
       "      <td>{'id': 10194, 'name': 'Toy Story Collection', ...</td>\n",
       "      <td>30000000</td>\n",
       "      <td>[{'id': 16, 'name': 'Animation'}, {'id': 35, '...</td>\n",
       "      <td>http://toystory.disney.com/toy-story</td>\n",
       "      <td>862</td>\n",
       "      <td>tt0114709</td>\n",
       "      <td>en</td>\n",
       "      <td>Toy Story</td>\n",
       "      <td>Led by Woody, Andy's toys live happily in his ...</td>\n",
       "      <td>...</td>\n",
       "      <td>1995-10-30</td>\n",
       "      <td>373554033.0</td>\n",
       "      <td>81.0</td>\n",
       "      <td>[{'iso_639_1': 'en', 'name': 'English'}]</td>\n",
       "      <td>Released</td>\n",
       "      <td>NaN</td>\n",
       "      <td>Toy Story</td>\n",
       "      <td>False</td>\n",
       "      <td>7.7</td>\n",
       "      <td>5415.0</td>\n",
       "    </tr>\n",
       "    <tr>\n",
       "      <th>1</th>\n",
       "      <td>False</td>\n",
       "      <td>NaN</td>\n",
       "      <td>65000000</td>\n",
       "      <td>[{'id': 12, 'name': 'Adventure'}, {'id': 14, '...</td>\n",
       "      <td>NaN</td>\n",
       "      <td>8844</td>\n",
       "      <td>tt0113497</td>\n",
       "      <td>en</td>\n",
       "      <td>Jumanji</td>\n",
       "      <td>When siblings Judy and Peter discover an encha...</td>\n",
       "      <td>...</td>\n",
       "      <td>1995-12-15</td>\n",
       "      <td>262797249.0</td>\n",
       "      <td>104.0</td>\n",
       "      <td>[{'iso_639_1': 'en', 'name': 'English'}, {'iso...</td>\n",
       "      <td>Released</td>\n",
       "      <td>Roll the dice and unleash the excitement!</td>\n",
       "      <td>Jumanji</td>\n",
       "      <td>False</td>\n",
       "      <td>6.9</td>\n",
       "      <td>2413.0</td>\n",
       "    </tr>\n",
       "  </tbody>\n",
       "</table>\n",
       "<p>2 rows × 24 columns</p>\n",
       "</div>"
      ],
      "text/plain": [
       "   adult                              belongs_to_collection    budget  \\\n",
       "0  False  {'id': 10194, 'name': 'Toy Story Collection', ...  30000000   \n",
       "1  False                                                NaN  65000000   \n",
       "\n",
       "                                              genres  \\\n",
       "0  [{'id': 16, 'name': 'Animation'}, {'id': 35, '...   \n",
       "1  [{'id': 12, 'name': 'Adventure'}, {'id': 14, '...   \n",
       "\n",
       "                               homepage    id    imdb_id original_language  \\\n",
       "0  http://toystory.disney.com/toy-story   862  tt0114709                en   \n",
       "1                                   NaN  8844  tt0113497                en   \n",
       "\n",
       "  original_title                                           overview  ...  \\\n",
       "0      Toy Story  Led by Woody, Andy's toys live happily in his ...  ...   \n",
       "1        Jumanji  When siblings Judy and Peter discover an encha...  ...   \n",
       "\n",
       "  release_date      revenue runtime  \\\n",
       "0   1995-10-30  373554033.0    81.0   \n",
       "1   1995-12-15  262797249.0   104.0   \n",
       "\n",
       "                                    spoken_languages    status  \\\n",
       "0           [{'iso_639_1': 'en', 'name': 'English'}]  Released   \n",
       "1  [{'iso_639_1': 'en', 'name': 'English'}, {'iso...  Released   \n",
       "\n",
       "                                     tagline      title  video vote_average  \\\n",
       "0                                        NaN  Toy Story  False          7.7   \n",
       "1  Roll the dice and unleash the excitement!    Jumanji  False          6.9   \n",
       "\n",
       "  vote_count  \n",
       "0     5415.0  \n",
       "1     2413.0  \n",
       "\n",
       "[2 rows x 24 columns]"
      ]
     },
     "metadata": {},
     "execution_count": 8
    }
   ],
   "metadata": {}
  },
  {
   "cell_type": "code",
   "execution_count": 12,
   "source": [
    "# TF-IDF를 계산할 때 null값이 들어있다면 에러가 발생하기 때문에 제거해줘야 한다.\r\n",
    "print(\"Null값 수:\", data['overview'].isnull().sum())\r\n",
    "data['overview'] = data['overview'].fillna('')\r\n",
    "print(\"Null값을 채운 후:\", data['overview'].isnull().sum())\r\n"
   ],
   "outputs": [
    {
     "output_type": "stream",
     "name": "stdout",
     "text": [
      "Null값 수: 135\n",
      "Null값을 채운 후: 0\n"
     ]
    }
   ],
   "metadata": {}
  },
  {
   "cell_type": "code",
   "execution_count": 15,
   "source": [
    "# overview 열에 대한 TF-IDF 계산 \r\n",
    "tfidf = TfidfVectorizer(stop_words=\"english\")\r\n",
    "tfidf_matrix = tfidf.fit_transform(data[\"overview\"])\r\n",
    "print(\"(영화수, 단어수) =\", tfidf_matrix.shape)"
   ],
   "outputs": [
    {
     "output_type": "stream",
     "name": "stdout",
     "text": [
      "(영화수, 단어수) = (20000, 47487)\n"
     ]
    }
   ],
   "metadata": {}
  },
  {
   "cell_type": "code",
   "execution_count": 17,
   "source": [
    "# 코사인 유사도를 이용해 문서의 유사도 구하기\r\n",
    "cosine_sim = linear_kernel(tfidf_matrix, tfidf_matrix)\r\n",
    "indices = pd.Series(data.index, index=data['title']).drop_duplicates()\r\n",
    "print(indices.head())"
   ],
   "outputs": [
    {
     "output_type": "stream",
     "name": "stdout",
     "text": [
      "title\n",
      "Toy Story                      0\n",
      "Jumanji                        1\n",
      "Grumpier Old Men               2\n",
      "Waiting to Exhale              3\n",
      "Father of the Bride Part II    4\n",
      "dtype: int64\n"
     ]
    }
   ],
   "metadata": {}
  },
  {
   "cell_type": "code",
   "execution_count": 84,
   "source": [
    "# 랜덤한 영화의 Title을 뽑아서 인덱스 구하기\r\n",
    "random_movie = indices.sample(1)\r\n",
    "print(\"영화의 제목:\", random_movie.index[0])\r\n",
    "print(\"영화의 인덱스 값:\", random_movie[0])"
   ],
   "outputs": [
    {
     "output_type": "stream",
     "name": "stdout",
     "text": [
      "영화의 제목: Year One\n",
      "영화의 인덱스 값: 13803\n"
     ]
    }
   ],
   "metadata": {}
  },
  {
   "cell_type": "code",
   "execution_count": 85,
   "source": [
    "def get_recomendations(title, cosine_sim):\r\n",
    "    \"\"\"코사인 유사도를 기준으로 가장 비슷한 10개의 영화 추천\"\"\"\r\n",
    "    idx = indices[title]\r\n",
    "    sim_scores = list(enumerate(cosine_sim[idx]))\r\n",
    "    sim_scores = sorted(sim_scores, key=lambda x: x[1], reverse=True)\r\n",
    "    sim_scores = sim_scores[1:11]\r\n",
    "    movie_indices = [i[0] for i in sim_scores]\r\n",
    "    return data['title'].iloc[movie_indices]\r\n",
    "\r\n",
    "get_recomendations(random_movie.index[0], cosine_sim)"
   ],
   "outputs": [
    {
     "output_type": "execute_result",
     "data": {
      "text/plain": [
       "15688                     Don Quixote\n",
       "12441                       10,000 BC\n",
       "8131                        The Apple\n",
       "13513                  Nigdy w życiu!\n",
       "19065      Iria: Zeiram the Animation\n",
       "1824           The Life of Emile Zola\n",
       "18467               One for the Money\n",
       "16832                    Troll Hunter\n",
       "19410             Where Do We Go Now?\n",
       "4063     The Greatest Story Ever Told\n",
       "Name: title, dtype: object"
      ]
     },
     "metadata": {},
     "execution_count": 85
    }
   ],
   "metadata": {}
  },
  {
   "cell_type": "code",
   "execution_count": null,
   "source": [],
   "outputs": [],
   "metadata": {}
  }
 ],
 "metadata": {
  "kernelspec": {
   "name": "python3",
   "display_name": "Python 3.9.5 64-bit ('base': conda)"
  },
  "language_info": {
   "codemirror_mode": {
    "name": "ipython",
    "version": 3
   },
   "file_extension": ".py",
   "mimetype": "text/x-python",
   "name": "python",
   "nbconvert_exporter": "python",
   "pygments_lexer": "ipython3",
   "version": "3.9.5"
  },
  "interpreter": {
   "hash": "bb9f406c0f70fca9801e60f2cbb7cd1ccff2ae2f74c58f513340bcf6cae5ecd0"
  }
 },
 "nbformat": 4,
 "nbformat_minor": 5
}