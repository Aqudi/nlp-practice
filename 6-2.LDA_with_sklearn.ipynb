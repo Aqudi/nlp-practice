{
 "cells": [
  {
   "cell_type": "code",
   "execution_count": null,
   "source": [],
   "outputs": [],
   "metadata": {}
  },
  {
   "cell_type": "markdown",
   "source": [
    "# 딥 러닝을 이용한 자연어 처리 입문\r\n",
    "\r\n",
    "아래 링크의 E-book을 보고 실습한 내용입니다.\r\n",
    "\r\n",
    "WikiDocs 주소: https://wikidocs.net/31766\r\n",
    "\r\n",
    "# 6장 토픽 모델링\r\n",
    "\r\n",
    "## 2절 잠재 디리클레 할당 (Latent Dirichlet Allocation, LDA)\r\n"
   ],
   "metadata": {}
  },
  {
   "cell_type": "markdown",
   "source": [
    "## 뉴스 그룹 데이터를 활용한 LDA 실습 - scikit learn\r\n",
    "\r\n",
    "### 뉴스 제목 데이터 다운로드\r\n"
   ],
   "metadata": {}
  },
  {
   "cell_type": "code",
   "execution_count": 1,
   "source": [
    "import pandas as pd\r\n",
    "import urllib.request\r\n",
    "urllib.request.urlretrieve(\r\n",
    "    \"https://raw.githubusercontent.com/franciscadias/data/master/abcnews-date-text.csv\", filename=\"abcnews-date-text.csv\")\r\n",
    "data = pd.read_csv('abcnews-date-text.csv', error_bad_lines=False)\r\n"
   ],
   "outputs": [
    {
     "output_type": "stream",
     "name": "stderr",
     "text": [
      "C:\\Users\\HTJ\\.conda\\envs\\tf\\lib\\site-packages\\IPython\\core\\interactiveshell.py:3441: FutureWarning: The error_bad_lines argument has been deprecated and will be removed in a future version.\n",
      "\n",
      "\n",
      "  exec(code_obj, self.user_global_ns, self.user_ns)\n"
     ]
    }
   ],
   "metadata": {}
  },
  {
   "cell_type": "code",
   "execution_count": 2,
   "source": [
    "print(\"데이터의 개수:\", len(data))\r\n",
    "print(data.head())\r\n"
   ],
   "outputs": [
    {
     "output_type": "stream",
     "name": "stdout",
     "text": [
      "데이터의 개수: 1082168\n",
      "   publish_date                                      headline_text\n",
      "0      20030219  aba decides against community broadcasting lic...\n",
      "1      20030219     act fire witnesses must be aware of defamation\n",
      "2      20030219     a g calls for infrastructure protection summit\n",
      "3      20030219           air nz staff in aust strike for pay rise\n",
      "4      20030219      air nz strike to affect australian travellers\n"
     ]
    }
   ],
   "metadata": {}
  },
  {
   "cell_type": "markdown",
   "source": [
    "### 텍스트 전처리\r\n",
    "- 불용어 제거\r\n",
    "- 표제어 추출\r\n",
    "- 길이가 짧은 단어 제거"
   ],
   "metadata": {}
  },
  {
   "cell_type": "code",
   "execution_count": 18,
   "source": [
    "import nltk\r\n",
    "from nltk.stem import WordNetLemmatizer\r\n",
    "from IPython.display import display\r\n",
    "\r\n",
    "# 헤드라인만 따로 저장\r\n",
    "text = data[['headline_text']].copy()\r\n",
    "\r\n",
    "# 토큰화\r\n",
    "text.loc[:, 'headline_text'] = text.apply(\r\n",
    "    lambda row: nltk.word_tokenize(row['headline_text']), axis=1)\r\n",
    "print(\"토큰화\")\r\n",
    "display(text.head(5))\r\n",
    "\r\n",
    "# 표제어 추출\r\n",
    "text.loc[:, 'headline_text'] = text.loc[:, 'headline_text'].apply(\r\n",
    "    lambda x: [WordNetLemmatizer().lemmatize(word, pos='v') for word in x])\r\n",
    "print(\"표제어 추출\")\r\n",
    "display(text.head(5))\r\n",
    "\r\n",
    "# 길이가 짧은 단어 제거\r\n",
    "tokenized_doc = text.loc[:, 'headline_text'].apply(\r\n",
    "    lambda x: [word for word in x if len(word) > 3])\r\n",
    "print(\"길이가 짧은 단어 제거\")\r\n",
    "display(tokenized_doc[:5])\r\n"
   ],
   "outputs": [
    {
     "output_type": "stream",
     "name": "stdout",
     "text": [
      "토큰화\n"
     ]
    },
    {
     "output_type": "display_data",
     "data": {
      "text/html": [
       "<div>\n",
       "<style scoped>\n",
       "    .dataframe tbody tr th:only-of-type {\n",
       "        vertical-align: middle;\n",
       "    }\n",
       "\n",
       "    .dataframe tbody tr th {\n",
       "        vertical-align: top;\n",
       "    }\n",
       "\n",
       "    .dataframe thead th {\n",
       "        text-align: right;\n",
       "    }\n",
       "</style>\n",
       "<table border=\"1\" class=\"dataframe\">\n",
       "  <thead>\n",
       "    <tr style=\"text-align: right;\">\n",
       "      <th></th>\n",
       "      <th>headline_text</th>\n",
       "    </tr>\n",
       "  </thead>\n",
       "  <tbody>\n",
       "    <tr>\n",
       "      <th>0</th>\n",
       "      <td>[aba, decides, against, community, broadcastin...</td>\n",
       "    </tr>\n",
       "    <tr>\n",
       "      <th>1</th>\n",
       "      <td>[act, fire, witnesses, must, be, aware, of, de...</td>\n",
       "    </tr>\n",
       "    <tr>\n",
       "      <th>2</th>\n",
       "      <td>[a, g, calls, for, infrastructure, protection,...</td>\n",
       "    </tr>\n",
       "    <tr>\n",
       "      <th>3</th>\n",
       "      <td>[air, nz, staff, in, aust, strike, for, pay, r...</td>\n",
       "    </tr>\n",
       "    <tr>\n",
       "      <th>4</th>\n",
       "      <td>[air, nz, strike, to, affect, australian, trav...</td>\n",
       "    </tr>\n",
       "  </tbody>\n",
       "</table>\n",
       "</div>"
      ],
      "text/plain": [
       "                                       headline_text\n",
       "0  [aba, decides, against, community, broadcastin...\n",
       "1  [act, fire, witnesses, must, be, aware, of, de...\n",
       "2  [a, g, calls, for, infrastructure, protection,...\n",
       "3  [air, nz, staff, in, aust, strike, for, pay, r...\n",
       "4  [air, nz, strike, to, affect, australian, trav..."
      ]
     },
     "metadata": {}
    },
    {
     "output_type": "stream",
     "name": "stdout",
     "text": [
      "표제어 추출\n"
     ]
    },
    {
     "output_type": "display_data",
     "data": {
      "text/html": [
       "<div>\n",
       "<style scoped>\n",
       "    .dataframe tbody tr th:only-of-type {\n",
       "        vertical-align: middle;\n",
       "    }\n",
       "\n",
       "    .dataframe tbody tr th {\n",
       "        vertical-align: top;\n",
       "    }\n",
       "\n",
       "    .dataframe thead th {\n",
       "        text-align: right;\n",
       "    }\n",
       "</style>\n",
       "<table border=\"1\" class=\"dataframe\">\n",
       "  <thead>\n",
       "    <tr style=\"text-align: right;\">\n",
       "      <th></th>\n",
       "      <th>headline_text</th>\n",
       "    </tr>\n",
       "  </thead>\n",
       "  <tbody>\n",
       "    <tr>\n",
       "      <th>0</th>\n",
       "      <td>[aba, decide, against, community, broadcast, l...</td>\n",
       "    </tr>\n",
       "    <tr>\n",
       "      <th>1</th>\n",
       "      <td>[act, fire, witness, must, be, aware, of, defa...</td>\n",
       "    </tr>\n",
       "    <tr>\n",
       "      <th>2</th>\n",
       "      <td>[a, g, call, for, infrastructure, protection, ...</td>\n",
       "    </tr>\n",
       "    <tr>\n",
       "      <th>3</th>\n",
       "      <td>[air, nz, staff, in, aust, strike, for, pay, r...</td>\n",
       "    </tr>\n",
       "    <tr>\n",
       "      <th>4</th>\n",
       "      <td>[air, nz, strike, to, affect, australian, trav...</td>\n",
       "    </tr>\n",
       "  </tbody>\n",
       "</table>\n",
       "</div>"
      ],
      "text/plain": [
       "                                       headline_text\n",
       "0  [aba, decide, against, community, broadcast, l...\n",
       "1  [act, fire, witness, must, be, aware, of, defa...\n",
       "2  [a, g, call, for, infrastructure, protection, ...\n",
       "3  [air, nz, staff, in, aust, strike, for, pay, r...\n",
       "4  [air, nz, strike, to, affect, australian, trav..."
      ]
     },
     "metadata": {}
    },
    {
     "output_type": "stream",
     "name": "stdout",
     "text": [
      "길이가 짧은 단어 제거\n"
     ]
    },
    {
     "output_type": "display_data",
     "data": {
      "text/plain": [
       "0    [decide, against, community, broadcast, licence]\n",
       "1            [fire, witness, must, aware, defamation]\n",
       "2          [call, infrastructure, protection, summit]\n",
       "3                         [staff, aust, strike, rise]\n",
       "4            [strike, affect, australian, travellers]\n",
       "Name: headline_text, dtype: object"
      ]
     },
     "metadata": {}
    }
   ],
   "metadata": {}
  },
  {
   "cell_type": "markdown",
   "source": [
    "### TF-IDF 행렬 만들기"
   ],
   "metadata": {}
  },
  {
   "cell_type": "code",
   "execution_count": 19,
   "source": [
    "detokenized_doc = []\r\n",
    "for i in range(len(text)):\r\n",
    "    t = ' ' .join(tokenized_doc[i])\r\n",
    "    detokenized_doc.append(t)\r\n",
    "\r\n",
    "text['headline_text'] = detokenized_doc\r\n",
    "text['headline_text'].head()\r\n"
   ],
   "outputs": [
    {
     "output_type": "execute_result",
     "data": {
      "text/plain": [
       "0    decide against community broadcast licence\n",
       "1            fire witness must aware defamation\n",
       "2         call infrastructure protection summit\n",
       "3                        staff aust strike rise\n",
       "4           strike affect australian travellers\n",
       "Name: headline_text, dtype: object"
      ]
     },
     "metadata": {},
     "execution_count": 19
    }
   ],
   "metadata": {}
  },
  {
   "cell_type": "code",
   "execution_count": 23,
   "source": [
    "from sklearn.feature_extraction.text import TfidfVectorizer\r\n",
    "\r\n",
    "vectorizer = TfidfVectorizer(stop_words='english', max_features=1000)\r\n",
    "X = vectorizer.fit_transform(text['headline_text'])\r\n",
    "X.shape\r\n"
   ],
   "outputs": [
    {
     "output_type": "execute_result",
     "data": {
      "text/plain": [
       "(1082168, 1000)"
      ]
     },
     "metadata": {},
     "execution_count": 23
    }
   ],
   "metadata": {}
  },
  {
   "cell_type": "markdown",
   "source": [
    "### 토픽 모델링"
   ],
   "metadata": {}
  },
  {
   "cell_type": "code",
   "execution_count": null,
   "source": [
    "from sklearn.decomposition import LatentDirichletAllocation\r\n",
    "\r\n",
    "lda_model = LatentDirichletAllocation(\r\n",
    "    n_components=10, learning_method='online', random_state=2, max_iter=1)\r\n",
    "lda_top = lda_model.fit_transform(X)\r\n"
   ],
   "outputs": [],
   "metadata": {}
  },
  {
   "cell_type": "code",
   "execution_count": 27,
   "source": [
    "print(\"Components shape:\", lda_model.components_.shape)\r\n",
    "print(\"토픽 내의 단어들의 분포\\n\", lda_model.components_)\r\n"
   ],
   "outputs": [
    {
     "output_type": "stream",
     "name": "stdout",
     "text": [
      "Components shape: (10, 1000)\n",
      "토픽 내의 단어들의 분포\n",
      " [[1.00000871e-01 1.00003339e-01 1.00014905e-01 ... 1.00004036e-01\n",
      "  1.00002263e-01 1.00003288e-01]\n",
      " [1.00002227e-01 1.00002129e-01 1.00005836e-01 ... 1.00008125e-01\n",
      "  1.00003007e-01 1.00003514e-01]\n",
      " [3.51600415e+02 1.13513398e+03 1.00010754e-01 ... 1.00004829e-01\n",
      "  1.00002995e-01 1.00003080e-01]\n",
      " ...\n",
      " [1.00001571e-01 1.00001298e-01 3.50170828e+03 ... 1.77619510e+03\n",
      "  1.50652739e+02 1.00004157e-01]\n",
      " [1.00000922e-01 1.00000856e-01 1.00003222e-01 ... 1.00004189e-01\n",
      "  1.00005413e-01 1.00002368e-01]\n",
      " [1.00001079e-01 1.00001123e-01 1.00003873e-01 ... 1.00003931e-01\n",
      "  1.00001535e-01 1.00003452e-01]]\n"
     ]
    }
   ],
   "metadata": {}
  },
  {
   "cell_type": "code",
   "execution_count": 26,
   "source": [
    "terms = vectorizer.get_feature_names()\r\n",
    "\r\n",
    "\r\n",
    "def get_topics(components, feature_names, n=5):\r\n",
    "    for idx, topic in enumerate(components):\r\n",
    "        print(\"Topic %d:\" % (\r\n",
    "            idx+1), [(feature_names[i], topic[i].round(2)) for i in topic.argsort()[:-n - 1:-1]])\r\n",
    "\r\n",
    "\r\n",
    "get_topics(lda_model.components_, terms)\r\n"
   ],
   "outputs": [
    {
     "output_type": "stream",
     "name": "stdout",
     "text": [
      "Topic 1: [('police', 12092.44), ('government', 8725.19), ('sydney', 8393.29), ('south', 6677.03), ('help', 5225.56)]\n",
      "Topic 2: [('trump', 11966.41), ('attack', 6959.64), ('change', 5874.27), ('year', 5586.42), ('china', 4533.32)]\n",
      "Topic 3: [('australian', 11088.95), ('charge', 8428.8), ('queensland', 7720.12), ('world', 6707.7), ('murder', 6268.13)]\n",
      "Topic 4: [('melbourne', 7528.43), ('canberra', 6112.23), ('plan', 6033.16), ('live', 5488.62), ('brisbane', 4857.21)]\n",
      "Topic 5: [('2016', 5488.19), ('crash', 5281.14), ('state', 4923.41), ('people', 4121.07), ('national', 4038.68)]\n",
      "Topic 6: [('australia', 13691.08), ('coast', 5429.41), ('woman', 3909.11), ('leave', 3849.71), ('gold', 3793.71)]\n",
      "Topic 7: [('election', 7561.63), ('adelaide', 6758.36), ('death', 5935.06), ('home', 5674.38), ('make', 5658.99)]\n",
      "Topic 8: [('warn', 5115.01), ('tasmanian', 4859.02), ('jail', 4632.85), ('turnbull', 4269.85), ('women', 4232.53)]\n",
      "Topic 9: [('court', 7542.74), ('perth', 6456.53), ('house', 6113.49), ('open', 5663.0), ('school', 5465.06)]\n",
      "Topic 10: [('interview', 5924.98), ('kill', 5851.6), ('market', 5545.86), ('shoot', 4492.07), ('time', 3966.8)]\n"
     ]
    }
   ],
   "metadata": {}
  }
 ],
 "metadata": {
  "orig_nbformat": 4,
  "language_info": {
   "name": "python",
   "version": "3.8.11",
   "mimetype": "text/x-python",
   "codemirror_mode": {
    "name": "ipython",
    "version": 3
   },
   "pygments_lexer": "ipython3",
   "nbconvert_exporter": "python",
   "file_extension": ".py"
  },
  "kernelspec": {
   "name": "python3",
   "display_name": "Python 3.8.11 64-bit ('tf': conda)"
  },
  "interpreter": {
   "hash": "131a2fe7960016a5e2629e09f3ca62b0c2ece83e5ed32d3907f8ac9bf090694a"
  }
 },
 "nbformat": 4,
 "nbformat_minor": 2
}