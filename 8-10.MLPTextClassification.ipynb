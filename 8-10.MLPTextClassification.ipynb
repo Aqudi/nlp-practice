{
 "cells": [
  {
   "cell_type": "markdown",
   "metadata": {},
   "source": [
    "# 딥 러닝을 이용한 자연어 처리 입문\n",
    "\n",
    "아래 링크의 E-book을 보고 실습한 내용입니다.\n",
    "\n",
    "WikiDocs 주소: https://wikidocs.net/31766\n",
    "\n",
    "# 8장 딥 러닝 개요\n",
    "\n",
    "## 10절 다층 퍼셉트론으로 텍스트 분류하기"
   ]
  },
  {
   "cell_type": "markdown",
   "metadata": {},
   "source": [
    "### Keras의 text_to_matrix 함수 이해하기"
   ]
  },
  {
   "cell_type": "code",
   "execution_count": 1,
   "metadata": {},
   "outputs": [],
   "source": [
    "import numpy as np\n",
    "from tensorflow.keras.preprocessing.text import Tokenizer\n"
   ]
  },
  {
   "cell_type": "code",
   "execution_count": 2,
   "metadata": {},
   "outputs": [
    {
     "name": "stdout",
     "output_type": "stream",
     "text": [
      "{'바나나': 1, '먹고': 2, '싶은': 3, '사과': 4, '길고': 5, '노란': 6, '저는': 7, '과일이': 8, '좋아요': 9}\n"
     ]
    }
   ],
   "source": [
    "texts = ['먹고 싶은 사과', '먹고 싶은 바나나', '길고 노란 바나나 바나나', '저는 과일이 좋아요']\n",
    "\n",
    "# 정수 인코딩\n",
    "tokenizer = Tokenizer()\n",
    "tokenizer.fit_on_texts(texts)\n",
    "print(tokenizer.word_index)\n"
   ]
  },
  {
   "cell_type": "code",
   "execution_count": 3,
   "metadata": {},
   "outputs": [
    {
     "name": "stdout",
     "output_type": "stream",
     "text": [
      "Keras texts_to_matrix 결과 (mode: count)\n",
      "[[0. 0. 1. 1. 1. 0. 0. 0. 0. 0.]\n",
      " [0. 1. 1. 1. 0. 0. 0. 0. 0. 0.]\n",
      " [0. 2. 0. 0. 0. 1. 1. 0. 0. 0.]\n",
      " [0. 0. 0. 0. 0. 0. 0. 1. 1. 1.]]\n",
      "\n",
      "Keras texts_to_matrix 결과 (mode: binary)\n",
      "[[0. 0. 1. 1. 1. 0. 0. 0. 0. 0.]\n",
      " [0. 1. 1. 1. 0. 0. 0. 0. 0. 0.]\n",
      " [0. 1. 0. 0. 0. 1. 1. 0. 0. 0.]\n",
      " [0. 0. 0. 0. 0. 0. 0. 1. 1. 1.]]\n",
      "\n",
      "Keras texts_to_matrix 결과 (mode: tfidf)\n",
      "[[0.         0.         0.84729786 0.84729786 1.09861229 0.\n",
      "  0.         0.         0.         0.        ]\n",
      " [0.         0.84729786 0.84729786 0.84729786 0.         0.\n",
      "  0.         0.         0.         0.        ]\n",
      " [0.         1.43459998 0.         0.         0.         1.09861229\n",
      "  1.09861229 0.         0.         0.        ]\n",
      " [0.         0.         0.         0.         0.         0.\n",
      "  0.         1.09861229 1.09861229 1.09861229]]\n",
      "\n",
      "Keras texts_to_matrix 결과 (mode: freq)\n",
      "[[0.         0.         0.33333333 0.33333333 0.33333333 0.\n",
      "  0.         0.         0.         0.        ]\n",
      " [0.         0.33333333 0.33333333 0.33333333 0.         0.\n",
      "  0.         0.         0.         0.        ]\n",
      " [0.         0.5        0.         0.         0.         0.25\n",
      "  0.25       0.         0.         0.        ]\n",
      " [0.         0.         0.         0.         0.         0.\n",
      "  0.         0.33333333 0.33333333 0.33333333]]\n",
      "\n"
     ]
    }
   ],
   "source": [
    "textsToMatrixModes = [\"count\", \"binary\", \"tfidf\", \"freq\"]\n",
    "for mode in textsToMatrixModes:\n",
    "    print(f\"Keras texts_to_matrix 결과 (mode: {mode})\")\n",
    "    print(tokenizer.texts_to_matrix(texts, mode=mode))\n",
    "    print()\n"
   ]
  },
  {
   "cell_type": "markdown",
   "metadata": {},
   "source": [
    "### 20 뉴스 그룹 데이터 이해"
   ]
  },
  {
   "cell_type": "code",
   "execution_count": 4,
   "metadata": {},
   "outputs": [],
   "source": [
    "import pandas as pd\n",
    "from sklearn.datasets import fetch_20newsgroups\n",
    "import matplotlib.pyplot as plt\n",
    "from tensorflow.keras.preprocessing.text import Tokenizer\n",
    "from tensorflow.keras.utils import to_categorical\n"
   ]
  },
  {
   "cell_type": "code",
   "execution_count": 5,
   "metadata": {},
   "outputs": [
    {
     "name": "stdout",
     "output_type": "stream",
     "text": [
      "데이터의 헤더: dict_keys(['data', 'filenames', 'target_names', 'target', 'DESCR'])\n",
      "훈련용 샘플의 개수 : 11314\n",
      "총 주제의 개수 : 20\n",
      "['alt.atheism', 'comp.graphics', 'comp.os.ms-windows.misc', 'comp.sys.ibm.pc.hardware', 'comp.sys.mac.hardware', 'comp.windows.x', 'misc.forsale', 'rec.autos', 'rec.motorcycles', 'rec.sport.baseball', 'rec.sport.hockey', 'sci.crypt', 'sci.electronics', 'sci.med', 'sci.space', 'soc.religion.christian', 'talk.politics.guns', 'talk.politics.mideast', 'talk.politics.misc', 'talk.religion.misc']\n"
     ]
    }
   ],
   "source": [
    "# train = 훈련용, test = 평가용, all = 전체 18,846개의 샘플\n",
    "newsdata = fetch_20newsgroups(subset='train')\n",
    "print(\"데이터의 헤더:\", newsdata.keys())\n",
    "print('훈련용 샘플의 개수 : {}'.format(len(newsdata.data)))\n",
    "print('총 주제의 개수 : {}'.format(len(newsdata.target_names)))\n",
    "print(newsdata.target_names)\n"
   ]
  },
  {
   "cell_type": "code",
   "execution_count": 6,
   "metadata": {},
   "outputs": [
    {
     "name": "stdout",
     "output_type": "stream",
     "text": [
      "0번 샘플의 주제: rec.autos\n",
      "0번 샘플 내용\n",
      "\n",
      "From: lerxst@wam.umd.edu (where's my thing)\n",
      "Subject: WHAT car is this!?\n",
      "Nntp-Posting-Host: rac3.wam.umd.edu\n",
      "Organization: University of Maryland, College Park\n",
      "Lines: 15\n",
      "\n",
      " I was wondering if anyone out there could enlighten me on this car I saw\n",
      "the other day. It was a 2-door sports car, looked to be from the late 60s/\n",
      "early 70s. It was called a Bricklin. The doors were really small. In addition,\n",
      "the front bumper was separate from the rest of the body. This is \n",
      "all I know. If anyone can tellme a model name, engine specs, years\n",
      "of production, where this car is made, history, or whatever info you\n",
      "have on this funky looking car, please e-mail.\n",
      "\n",
      "Thanks,\n",
      "- IL\n",
      "   ---- brought to you by your neighborhood Lerxst ----\n",
      "\n",
      "\n",
      "\n",
      "\n",
      "\n"
     ]
    }
   ],
   "source": [
    "print(f\"0번 샘플의 주제: {newsdata.target_names[7]}\")\n",
    "print(\"0번 샘플 내용\\n\")\n",
    "print(newsdata.data[0])\n"
   ]
  },
  {
   "cell_type": "code",
   "execution_count": 7,
   "metadata": {},
   "outputs": [
    {
     "data": {
      "text/html": [
       "<div>\n",
       "<style scoped>\n",
       "    .dataframe tbody tr th:only-of-type {\n",
       "        vertical-align: middle;\n",
       "    }\n",
       "\n",
       "    .dataframe tbody tr th {\n",
       "        vertical-align: top;\n",
       "    }\n",
       "\n",
       "    .dataframe thead th {\n",
       "        text-align: right;\n",
       "    }\n",
       "</style>\n",
       "<table border=\"1\" class=\"dataframe\">\n",
       "  <thead>\n",
       "    <tr style=\"text-align: right;\">\n",
       "      <th></th>\n",
       "      <th>email</th>\n",
       "      <th>target</th>\n",
       "    </tr>\n",
       "  </thead>\n",
       "  <tbody>\n",
       "    <tr>\n",
       "      <th>0</th>\n",
       "      <td>From: lerxst@wam.umd.edu (where's my thing)\\nS...</td>\n",
       "      <td>7</td>\n",
       "    </tr>\n",
       "    <tr>\n",
       "      <th>1</th>\n",
       "      <td>From: guykuo@carson.u.washington.edu (Guy Kuo)...</td>\n",
       "      <td>4</td>\n",
       "    </tr>\n",
       "    <tr>\n",
       "      <th>2</th>\n",
       "      <td>From: twillis@ec.ecn.purdue.edu (Thomas E Will...</td>\n",
       "      <td>4</td>\n",
       "    </tr>\n",
       "    <tr>\n",
       "      <th>3</th>\n",
       "      <td>From: jgreen@amber (Joe Green)\\nSubject: Re: W...</td>\n",
       "      <td>1</td>\n",
       "    </tr>\n",
       "    <tr>\n",
       "      <th>4</th>\n",
       "      <td>From: jcm@head-cfa.harvard.edu (Jonathan McDow...</td>\n",
       "      <td>14</td>\n",
       "    </tr>\n",
       "  </tbody>\n",
       "</table>\n",
       "</div>"
      ],
      "text/plain": [
       "                                               email  target\n",
       "0  From: lerxst@wam.umd.edu (where's my thing)\\nS...       7\n",
       "1  From: guykuo@carson.u.washington.edu (Guy Kuo)...       4\n",
       "2  From: twillis@ec.ecn.purdue.edu (Thomas E Will...       4\n",
       "3  From: jgreen@amber (Joe Green)\\nSubject: Re: W...       1\n",
       "4  From: jcm@head-cfa.harvard.edu (Jonathan McDow...      14"
      ]
     },
     "execution_count": 7,
     "metadata": {},
     "output_type": "execute_result"
    }
   ],
   "source": [
    "# DataFrame 생성\n",
    "data = pd.DataFrame(newsdata.data, columns=['email'])\n",
    "data['target'] = pd.Series(newsdata.target)\n",
    "data.head()\n"
   ]
  },
  {
   "cell_type": "code",
   "execution_count": 8,
   "metadata": {},
   "outputs": [
    {
     "name": "stdout",
     "output_type": "stream",
     "text": [
      "<class 'pandas.core.frame.DataFrame'>\n",
      "RangeIndex: 11314 entries, 0 to 11313\n",
      "Data columns (total 2 columns):\n",
      " #   Column  Non-Null Count  Dtype \n",
      "---  ------  --------------  ----- \n",
      " 0   email   11314 non-null  object\n",
      " 1   target  11314 non-null  int64 \n",
      "dtypes: int64(1), object(1)\n",
      "memory usage: 176.9+ KB\n"
     ]
    }
   ],
   "source": [
    "data.info()\n"
   ]
  },
  {
   "cell_type": "code",
   "execution_count": 9,
   "metadata": {},
   "outputs": [
    {
     "name": "stdout",
     "output_type": "stream",
     "text": [
      "Null value 확인:  False\n",
      "중복을 제외한 샘플의 수 : 11314\n",
      "중복을 제외한 주제의 수 : 20\n"
     ]
    }
   ],
   "source": [
    "print(\"Null value 확인: \", data.isnull().values.any())\n",
    "print('중복을 제외한 샘플의 수 : {}'.format(data['email'].nunique()))\n",
    "print('중복을 제외한 주제의 수 : {}'.format(data['target'].nunique()))\n"
   ]
  },
  {
   "cell_type": "code",
   "execution_count": 10,
   "metadata": {},
   "outputs": [
    {
     "data": {
      "text/plain": [
       "<AxesSubplot:>"
      ]
     },
     "execution_count": 10,
     "metadata": {},
     "output_type": "execute_result"
    },
    {
     "data": {
      "image/png": "[encoded data removed]",
      "text/plain": [
       "<Figure size 432x288 with 1 Axes>"
      ]
     },
     "metadata": {
      "needs_background": "light"
     },
     "output_type": "display_data"
    }
   ],
   "source": [
    "# 레이블 값 분포 시각화\n",
    "data['target'].value_counts().plot(kind='bar')\n"
   ]
  },
  {
   "cell_type": "code",
   "execution_count": 11,
   "metadata": {},
   "outputs": [
    {
     "name": "stdout",
     "output_type": "stream",
     "text": [
      "    target  count\n",
      "0        0    480\n",
      "1        1    584\n",
      "2        2    591\n",
      "3        3    590\n",
      "4        4    578\n",
      "5        5    593\n",
      "6        6    585\n",
      "7        7    594\n",
      "8        8    598\n",
      "9        9    597\n",
      "10      10    600\n",
      "11      11    595\n",
      "12      12    591\n",
      "13      13    594\n",
      "14      14    593\n",
      "15      15    599\n",
      "16      16    546\n",
      "17      17    564\n",
      "18      18    465\n",
      "19      19    377\n"
     ]
    }
   ],
   "source": [
    "# 레이블 값 분포 구체적인 수치 확인\n",
    "print(data.groupby('target').size().reset_index(name='count'))\n"
   ]
  },
  {
   "cell_type": "code",
   "execution_count": 12,
   "metadata": {},
   "outputs": [],
   "source": [
    "# Test 데이터셋 불러오기\n",
    "newsdata_test = fetch_20newsgroups(subset='test', shuffle=True)\n",
    "test_email = newsdata_test.data\n",
    "test_label = newsdata_test.target\n",
    "\n",
    "# 훈련 데이터셋에서 email과 레이블 분리\n",
    "train_email = data['email']\n",
    "train_label = data['target']\n"
   ]
  },
  {
   "cell_type": "code",
   "execution_count": 13,
   "metadata": {},
   "outputs": [
    {
     "name": "stdout",
     "output_type": "stream",
     "text": [
      "훈련 샘플 본문의 크기 : (11314, 10000)\n",
      "훈련 샘플 레이블의 크기 : (11314, 20)\n",
      "테스트 샘플 본문의 크기 : (7532, 10000)\n",
      "테스트 샘플 레이블의 크기 : (7532, 20)\n"
     ]
    }
   ],
   "source": [
    "# 데이터 전처리 과정\n",
    "max_words = 10000   # 사용할 단어의 개수 (상위 N개)\n",
    "num_classes = 20    # 토픽의 개수\n",
    "\n",
    "\n",
    "def prepare_data(train_data, test_data, mode):\n",
    "    \"\"\"전처리 함수 - 정수 인코딩 -> Matrix 생성\"\"\"\n",
    "    tokenizer = Tokenizer(num_words=max_words)  # max_words 개수만큼의 단어만 사용한다.\n",
    "    tokenizer.fit_on_texts(train_data)\n",
    "    X_train = tokenizer.texts_to_matrix(train_data, mode=mode)\n",
    "    X_test = tokenizer.texts_to_matrix(test_data, mode=mode)\n",
    "    return X_train, X_test, tokenizer.index_word\n",
    "\n",
    "\n",
    "# 전처리\n",
    "X_train, X_test, index_to_word = prepare_data(\n",
    "    train_email, test_email, 'binary')\n",
    "\n",
    "# one-hot 인코딩\n",
    "y_train = to_categorical(train_label, num_classes)\n",
    "y_test = to_categorical(test_label, num_classes)\n",
    "\n",
    "print('훈련 샘플 본문의 크기 : {}'.format(X_train.shape))\n",
    "print('훈련 샘플 레이블의 크기 : {}'.format(y_train.shape))\n",
    "print('테스트 샘플 본문의 크기 : {}'.format(X_test.shape))\n",
    "print('테스트 샘플 레이블의 크기 : {}'.format(y_test.shape))\n"
   ]
  },
  {
   "cell_type": "code",
   "execution_count": 14,
   "metadata": {},
   "outputs": [
    {
     "name": "stdout",
     "output_type": "stream",
     "text": [
      "빈도수 상위 1번 단어 : the\n",
      "빈도수 상위 9999번 단어 : mic\n"
     ]
    }
   ],
   "source": [
    "print('빈도수 상위 1번 단어 : {}'.format(index_to_word[1]))\n",
    "print('빈도수 상위 9999번 단어 : {}'.format(index_to_word[9999]))\n"
   ]
  },
  {
   "cell_type": "markdown",
   "metadata": {},
   "source": [
    "### MLP를 사용하여 텍스트 분류하기"
   ]
  },
  {
   "cell_type": "code",
   "execution_count": 15,
   "metadata": {},
   "outputs": [],
   "source": [
    "from tensorflow.keras.models import Sequential\n",
    "from tensorflow.keras.layers import Dense, Dropout\n",
    "\n",
    "def create_model():\n",
    "    \"\"\"Sequential 모델을 만드는 함수\n",
    "    입력층, 2개의 은닉층, 출력층 총 4개의 층으로 구성된 네트워크 입니다.\n",
    "    은닉층의 개수가 2개 이상인 Deep neural network입니다.\n",
    "    \"\"\"\n",
    "    model = Sequential()\n",
    "    model.add(Dense(256, input_shape=(max_words,), activation='relu'))\n",
    "    model.add(Dropout(0.5))\n",
    "    model.add(Dense(128, activation='relu'))\n",
    "    model.add(Dropout(0.5))\n",
    "    model.add(Dense(num_classes, activation='softmax'))\n",
    "    return model\n",
    "\n",
    "def fit_and_evaluate(X_train, y_train, X_test, y_test):\n",
    "    \"\"\"모델을 학습하고 평가하는 함수\n",
    "    입력받은 데이터셋에 따라 평가를 진행합니다.\n",
    "    \"\"\"\n",
    "    model = create_model()\n",
    "    model.compile(loss='categorical_crossentropy',\n",
    "                  optimizer='adam', metrics=['accuracy'])\n",
    "    model.fit(X_train, y_train, batch_size=128,\n",
    "              epochs=5, verbose=1, validation_split=0.1)\n",
    "    score = model.evaluate(X_test, y_test, batch_size=128, verbose=0)\n",
    "    return score[1]"
   ]
  },
  {
   "cell_type": "code",
   "execution_count": 16,
   "metadata": {},
   "outputs": [
    {
     "name": "stdout",
     "output_type": "stream",
     "text": [
      "Num GPUs: 0\n"
     ]
    },
    {
     "name": "stderr",
     "output_type": "stream",
     "text": [
      "2021-11-22 04:10:11.358347: E tensorflow/stream_executor/cuda/cuda_driver.cc:271] failed call to cuInit: UNKNOWN ERROR (34)\n",
      "2021-11-22 04:10:11.358421: I tensorflow/stream_executor/cuda/cuda_diagnostics.cc:156] kernel driver does not appear to be running on this host (91f72fdd3418): /proc/driver/nvidia/version does not exist\n"
     ]
    }
   ],
   "source": [
    "import tensorflow as tf\n",
    "physical_devices = tf.config.list_physical_devices('GPU')\n",
    "print(\"Num GPUs:\", len(physical_devices))"
   ]
  },
  {
   "cell_type": "code",
   "execution_count": 17,
   "metadata": {},
   "outputs": [
    {
     "name": "stdout",
     "output_type": "stream",
     "text": [
      "Model: \"sequential\"\n",
      "_________________________________________________________________\n",
      " Layer (type)                Output Shape              Param #   \n",
      "=================================================================\n",
      " dense (Dense)               (None, 256)               2560256   \n",
      "                                                                 \n",
      " dropout (Dropout)           (None, 256)               0         \n",
      "                                                                 \n",
      " dense_1 (Dense)             (None, 128)               32896     \n",
      "                                                                 \n",
      " dropout_1 (Dropout)         (None, 128)               0         \n",
      "                                                                 \n",
      " dense_2 (Dense)             (None, 20)                2580      \n",
      "                                                                 \n",
      "=================================================================\n",
      "Total params: 2,595,732\n",
      "Trainable params: 2,595,732\n",
      "Non-trainable params: 0\n",
      "_________________________________________________________________\n"
     ]
    },
    {
     "name": "stderr",
     "output_type": "stream",
     "text": [
      "2021-11-22 04:10:11.406983: I tensorflow/core/platform/cpu_feature_guard.cc:151] This TensorFlow binary is optimized with oneAPI Deep Neural Network Library (oneDNN) to use the following CPU instructions in performance-critical operations:  AVX2 FMA\n",
      "To enable them in other operations, rebuild TensorFlow with the appropriate compiler flags.\n"
     ]
    }
   ],
   "source": [
    "create_model().summary()"
   ]
  },
  {
   "cell_type": "code",
   "execution_count": 18,
   "metadata": {},
   "outputs": [
    {
     "name": "stderr",
     "output_type": "stream",
     "text": [
      "2021-11-22 04:10:20.358377: W tensorflow/core/framework/cpu_allocator_impl.cc:82] Allocation of 407280000 exceeds 10% of free system memory.\n"
     ]
    },
    {
     "name": "stdout",
     "output_type": "stream",
     "text": [
      "Epoch 1/5\n",
      "80/80 [==============================] - 3s 25ms/step - loss: 2.7176 - accuracy: 0.2471 - val_loss: 1.5517 - val_accuracy: 0.7359\n",
      "Epoch 2/5\n",
      "80/80 [==============================] - 1s 18ms/step - loss: 1.4058 - accuracy: 0.6346 - val_loss: 0.6807 - val_accuracy: 0.8507\n",
      "Epoch 3/5\n",
      "80/80 [==============================] - 2s 22ms/step - loss: 0.7523 - accuracy: 0.8064 - val_loss: 0.5132 - val_accuracy: 0.8763\n",
      "Epoch 4/5\n",
      "80/80 [==============================] - 2s 20ms/step - loss: 0.5152 - accuracy: 0.8814 - val_loss: 0.4367 - val_accuracy: 0.8843\n",
      "Epoch 5/5\n",
      "80/80 [==============================] - 1s 17ms/step - loss: 0.3878 - accuracy: 0.9135 - val_loss: 0.4085 - val_accuracy: 0.8913\n"
     ]
    },
    {
     "name": "stderr",
     "output_type": "stream",
     "text": [
      "2021-11-22 04:10:29.344131: W tensorflow/core/framework/cpu_allocator_impl.cc:82] Allocation of 301280000 exceeds 10% of free system memory.\n"
     ]
    },
    {
     "name": "stdout",
     "output_type": "stream",
     "text": [
      "count 모드의 테스트 정확도: 0.8223579525947571\n"
     ]
    },
    {
     "name": "stderr",
     "output_type": "stream",
     "text": [
      "2021-11-22 04:10:39.076922: W tensorflow/core/framework/cpu_allocator_impl.cc:82] Allocation of 407280000 exceeds 10% of free system memory.\n"
     ]
    },
    {
     "name": "stdout",
     "output_type": "stream",
     "text": [
      "Epoch 1/5\n",
      "80/80 [==============================] - 2s 19ms/step - loss: 2.2857 - accuracy: 0.3384 - val_loss: 0.9833 - val_accuracy: 0.8039\n",
      "Epoch 2/5\n",
      "80/80 [==============================] - 2s 19ms/step - loss: 0.8766 - accuracy: 0.7565 - val_loss: 0.4495 - val_accuracy: 0.8905\n",
      "Epoch 3/5\n",
      "80/80 [==============================] - 2s 19ms/step - loss: 0.4401 - accuracy: 0.8841 - val_loss: 0.3532 - val_accuracy: 0.8958\n",
      "Epoch 4/5\n",
      "80/80 [==============================] - 1s 18ms/step - loss: 0.2645 - accuracy: 0.9322 - val_loss: 0.3032 - val_accuracy: 0.9090\n",
      "Epoch 5/5\n",
      "80/80 [==============================] - 1s 18ms/step - loss: 0.1677 - accuracy: 0.9590 - val_loss: 0.2908 - val_accuracy: 0.9108\n"
     ]
    },
    {
     "name": "stderr",
     "output_type": "stream",
     "text": [
      "2021-11-22 04:10:47.354720: W tensorflow/core/framework/cpu_allocator_impl.cc:82] Allocation of 301280000 exceeds 10% of free system memory.\n"
     ]
    },
    {
     "name": "stdout",
     "output_type": "stream",
     "text": [
      "binary 모드의 테스트 정확도: 0.8276686072349548\n"
     ]
    },
    {
     "name": "stderr",
     "output_type": "stream",
     "text": [
      "2021-11-22 04:11:03.188445: W tensorflow/core/framework/cpu_allocator_impl.cc:82] Allocation of 407280000 exceeds 10% of free system memory.\n"
     ]
    },
    {
     "name": "stdout",
     "output_type": "stream",
     "text": [
      "Epoch 1/5\n",
      "80/80 [==============================] - 2s 25ms/step - loss: 2.1612 - accuracy: 0.3764 - val_loss: 0.7325 - val_accuracy: 0.8454\n",
      "Epoch 2/5\n",
      "80/80 [==============================] - 2s 23ms/step - loss: 0.7927 - accuracy: 0.7877 - val_loss: 0.4194 - val_accuracy: 0.8940\n",
      "Epoch 3/5\n",
      "80/80 [==============================] - 2s 22ms/step - loss: 0.4364 - accuracy: 0.8885 - val_loss: 0.3391 - val_accuracy: 0.9081\n",
      "Epoch 4/5\n",
      "80/80 [==============================] - 1s 18ms/step - loss: 0.2846 - accuracy: 0.9300 - val_loss: 0.3241 - val_accuracy: 0.9081\n",
      "Epoch 5/5\n",
      "80/80 [==============================] - 1s 19ms/step - loss: 0.2147 - accuracy: 0.9518 - val_loss: 0.3184 - val_accuracy: 0.9117\n",
      "tfidf 모드의 테스트 정확도: 0.828066885471344\n",
      "Epoch 1/5\n",
      "80/80 [==============================] - 2s 21ms/step - loss: 2.9764 - accuracy: 0.0799 - val_loss: 2.9245 - val_accuracy: 0.2085\n",
      "Epoch 2/5\n",
      "80/80 [==============================] - 2s 19ms/step - loss: 2.7181 - accuracy: 0.2122 - val_loss: 2.3961 - val_accuracy: 0.4496\n",
      "Epoch 3/5\n",
      "80/80 [==============================] - 2s 21ms/step - loss: 2.1956 - accuracy: 0.3250 - val_loss: 1.8807 - val_accuracy: 0.6157\n",
      "Epoch 4/5\n",
      "80/80 [==============================] - 2s 19ms/step - loss: 1.7408 - accuracy: 0.4627 - val_loss: 1.4687 - val_accuracy: 0.6740\n",
      "Epoch 5/5\n",
      "80/80 [==============================] - 1s 18ms/step - loss: 1.3738 - accuracy: 0.5867 - val_loss: 1.1561 - val_accuracy: 0.7350\n",
      "freq 모드의 테스트 정확도: 0.681890606880188\n"
     ]
    }
   ],
   "source": [
    "# count, binary, tfidf, freq 4가지 모드로 다르게 전처리를 해서 모델에 입력으로 넣어본다.\n",
    "for mode in textsToMatrixModes:\n",
    "    X_train, X_test, _ = prepare_data(train_email, test_email, mode)\n",
    "    score = fit_and_evaluate(X_train, y_train, X_test, y_test)\n",
    "    print(mode+' 모드의 테스트 정확도:', score)\n"
   ]
  }
 ],
 "metadata": {
  "interpreter": {
   "hash": "949777d72b0d2535278d3dc13498b2535136f6dfe0678499012e853ee9abcab1"
  },
  "kernelspec": {
   "display_name": "Python 3.10.0 64-bit",
   "name": "python3"
  },
  "language_info": {
   "codemirror_mode": {
    "name": "ipython",
    "version": 3
   },
   "file_extension": ".py",
   "mimetype": "text/x-python",
   "name": "python",
   "nbconvert_exporter": "python",
   "pygments_lexer": "ipython3",
   "version": "3.8.10"
  },
  "orig_nbformat": 4
 },
 "nbformat": 4,
 "nbformat_minor": 2
}
