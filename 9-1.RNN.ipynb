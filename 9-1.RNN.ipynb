{
 "cells": [
  {
   "cell_type": "markdown",
   "metadata": {},
   "source": [
    "# 딥 러닝을 이용한 자연어 처리 입문\n",
    "\n",
    "아래 링크의 E-book을 보고 실습한 내용입니다.\n",
    "\n",
    "WikiDocs 주소: https://wikidocs.net/31766\n",
    "\n",
    "# 9장 딥 러닝 개요\n",
    "\n",
    "## 1절 순환 신경망 RNN"
   ]
  },
  {
   "cell_type": "markdown",
   "metadata": {},
   "source": [
    "### Python으로 RNN 구현하기\n",
    "\n",
    "hidden state $h_t = tanh(W_{hh}h_{t-1} + W_{xh}X_{t} + b_n)$를 numpy로 구현한다."
   ]
  },
  {
   "cell_type": "code",
   "execution_count": 24,
   "metadata": {},
   "outputs": [
    {
     "name": "stdout",
     "output_type": "stream",
     "text": [
      "입력 가중치: (8, 4)\n",
      "은닉 상태 가중치: (8, 8)\n",
      "편향: (8,)\n"
     ]
    }
   ],
   "source": [
    "import numpy as np\n",
    "\n",
    "timesteps = 10\n",
    "input_dim = 4\n",
    "hidden_size = 8\n",
    "\n",
    "# 입력은 랜덤으로 생성\n",
    "inputs = np.random.random((timesteps, input_dim))\n",
    "# 초기 은닉 상태는 0으로 초기화\n",
    "hidden_state_t = np.zeros((hidden_size,)) \n",
    "\n",
    "# 입력 가중치와 은닉 상태 가중치도 초기에는 모두 0으로 초기화한다.\n",
    "Wx = np.random.random((hidden_size, input_dim)) \n",
    "Wh = np.random.random((hidden_size, hidden_size))\n",
    "b = np.random.random((hidden_size,))\n",
    "\n",
    "print(\"입력 가중치:\", np.shape(Wx))\n",
    "print(\"은닉 상태 가중치:\", np.shape(Wh))\n",
    "print(\"편향:\", np.shape(b))"
   ]
  },
  {
   "cell_type": "code",
   "execution_count": 25,
   "metadata": {},
   "outputs": [
    {
     "name": "stdout",
     "output_type": "stream",
     "text": [
      "[[0.7276336033707106, 0.8490200020474037, 0.7853212175989133, 0.8717201620718433, 0.6771430697183123, 0.9352470280257933, 0.6989087815254379, 0.9238688671349398], [0.9999380932964358, 0.9999756597481622, 0.9999673412241009, 0.9999705983502601, 0.9999525472770998, 0.9999936842955812, 0.9994026571578591, 0.9999590952237115], [0.9999587353970204, 0.9999927932485515, 0.9999845123483967, 0.9999943836449922, 0.9999843856147006, 0.9999972498922841, 0.9993035225380635, 0.9999740504242067], [0.9999116164896882, 0.9999848972892653, 0.9999737092911501, 0.9999868476587462, 0.9999746130388979, 0.9999902753173114, 0.9968847560797724, 0.9999468384395538], [0.9998792463387293, 0.9999900722618372, 0.9999693289316928, 0.999986750553711, 0.9999602914164797, 0.9999935477246452, 0.9980998518923018, 0.999910294988677], [0.999925852395544, 0.9999892833807649, 0.9999715601212564, 0.9999871060752451, 0.9999774248182295, 0.9999936535400421, 0.9983757536536944, 0.999952800545627], [0.9999731203320724, 0.9999852905906887, 0.9999872788540011, 0.9999933674469594, 0.9999920118871244, 0.9999939694782185, 0.9982536734357217, 0.9999876762547771], [0.9998870837529992, 0.9999873888320646, 0.9999586514259916, 0.9999883369924749, 0.9999669544394142, 0.9999925554016786, 0.9979470070037906, 0.9999307267426688], [0.999959761531296, 0.9999929930276297, 0.9999871520853054, 0.9999944146129015, 0.9999841707827373, 0.9999972827756144, 0.9992662587732783, 0.9999735702462741], [0.9999637248152474, 0.9999948341648035, 0.9999879695465838, 0.9999927196886187, 0.9999849691227565, 0.9999978110783223, 0.999490217510217, 0.9999727093930256]]\n"
     ]
    }
   ],
   "source": [
    "total_hidden_states = []\n",
    "\n",
    "# 각 timestamp에 해당하는 input에 대한 은닉 상태를 구한다.\n",
    "for input_t in inputs:\n",
    "  # hidden_state_t는 이전 시점의 은닉 상태를 의미한다.\n",
    "  # ouput_t는 현재 시점의 출력값을 의미한다.\n",
    "  output_t = np.tanh(np.dot(Wx,input_t) + np.dot(Wh,hidden_state_t) + b) \n",
    "  total_hidden_states.append(list(output_t)) \n",
    "  # 현재 시점의 출력값이 다음 시점의 은닉 상태를 계산할 때 사용된다.\n",
    "  hidden_state_t = output_t\n",
    "print(total_hidden_states)"
   ]
  },
  {
   "cell_type": "markdown",
   "metadata": {},
   "source": [
    "### Keras로 RNN 구현하기"
   ]
  },
  {
   "cell_type": "code",
   "execution_count": 5,
   "metadata": {},
   "outputs": [],
   "source": [
    "# 경고 메시지 무시\n",
    "import os\n",
    "os.environ['TF_CPP_MIN_LOG_LEVEL'] = '2'\n",
    "\n",
    "from tensorflow.keras.models import Sequential\n",
    "from tensorflow.keras.layers import SimpleRNN"
   ]
  },
  {
   "cell_type": "code",
   "execution_count": 11,
   "metadata": {},
   "outputs": [
    {
     "name": "stdout",
     "output_type": "stream",
     "text": [
      "Model: \"sequential_7\"\n",
      "_________________________________________________________________\n",
      " Layer (type)                Output Shape              Param #   \n",
      "=================================================================\n",
      " simple_rnn_7 (SimpleRNN)    (None, 3)                 42        \n",
      "                                                                 \n",
      "=================================================================\n",
      "Total params: 42\n",
      "Trainable params: 42\n",
      "Non-trainable params: 0\n",
      "_________________________________________________________________\n"
     ]
    }
   ],
   "source": [
    "# 출력 포맷은 (배치, 출력)이다.\n",
    "model = Sequential()\n",
    "model.add(SimpleRNN(3, input_shape=(2,10)))\n",
    "model.summary()"
   ]
  },
  {
   "cell_type": "code",
   "execution_count": 20,
   "metadata": {},
   "outputs": [
    {
     "name": "stdout",
     "output_type": "stream",
     "text": [
      "Model: \"sequential_8\"\n",
      "_________________________________________________________________\n",
      " Layer (type)                Output Shape              Param #   \n",
      "=================================================================\n",
      " simple_rnn_8 (SimpleRNN)    (None, 2, 3)              42        \n",
      "                                                                 \n",
      "=================================================================\n",
      "Total params: 42\n",
      "Trainable params: 42\n",
      "Non-trainable params: 0\n",
      "_________________________________________________________________\n"
     ]
    }
   ],
   "source": [
    "# return_sequences를 해주면 각 시점에 대한 출력값도 포함이 된다.\n",
    "# 그렇기 때문에 출력 포맷이 (배치, 시점, 출력)이 된다.\n",
    "model = Sequential()\n",
    "model.add(SimpleRNN(3, input_shape=(2,10), return_sequences=True))\n",
    "model.summary()"
   ]
  },
  {
   "cell_type": "markdown",
   "metadata": {},
   "source": [
    "### 깊은 순환 신경망"
   ]
  },
  {
   "cell_type": "code",
   "execution_count": 21,
   "metadata": {},
   "outputs": [
    {
     "name": "stdout",
     "output_type": "stream",
     "text": [
      "Model: \"sequential_9\"\n",
      "_________________________________________________________________\n",
      " Layer (type)                Output Shape              Param #   \n",
      "=================================================================\n",
      " simple_rnn_9 (SimpleRNN)    (None, 10, 8)             112       \n",
      "                                                                 \n",
      " simple_rnn_10 (SimpleRNN)   (None, 10, 8)             136       \n",
      "                                                                 \n",
      "=================================================================\n",
      "Total params: 248\n",
      "Trainable params: 248\n",
      "Non-trainable params: 0\n",
      "_________________________________________________________________\n"
     ]
    }
   ],
   "source": [
    "model = Sequential()\n",
    "# return_sequences=True를 통해 이전 은닉층의 모든 시점에서의 은닉 상태들을 사용할 수 있게 해준다.\n",
    "model.add(SimpleRNN(hidden_size, input_length=10, input_dim=5, return_sequences=True))\n",
    "model.add(SimpleRNN(hidden_size, return_sequences=True))\n",
    "model.summary()"
   ]
  }
 ],
 "metadata": {
  "interpreter": {
   "hash": "949777d72b0d2535278d3dc13498b2535136f6dfe0678499012e853ee9abcab1"
  },
  "kernelspec": {
   "display_name": "Python 3.10.0 64-bit",
   "name": "python3"
  },
  "language_info": {
   "codemirror_mode": {
    "name": "ipython",
    "version": 3
   },
   "file_extension": ".py",
   "mimetype": "text/x-python",
   "name": "python",
   "nbconvert_exporter": "python",
   "pygments_lexer": "ipython3",
   "version": "3.8.10"
  },
  "orig_nbformat": 4
 },
 "nbformat": 4,
 "nbformat_minor": 2
}
