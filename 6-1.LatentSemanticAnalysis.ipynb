{
 "cells": [
  {
   "cell_type": "markdown",
   "metadata": {},
   "source": [
    "# 딥 러닝을 이용한 자연어 처리 입문\n",
    "\n",
    "아래 링크의 E-book을 보고 실습한 내용입니다.\n",
    "\n",
    "WikiDocs 주소: https://wikidocs.net/31766\n",
    "\n",
    "\n",
    "# 6장 토픽 모델링\n",
    "\n",
    "## 1절 잠재 의미 분석 (Latent Semantic Analysis, LSA)"
   ]
  },
  {
   "cell_type": "markdown",
   "metadata": {},
   "source": [
    "## 잠재 의미 분석 (Latent Semantic Analysis, LSA)"
   ]
  },
  {
   "cell_type": "code",
   "execution_count": 1,
   "metadata": {},
   "outputs": [],
   "source": [
    "import numpy as np\n",
    "import pandas as pd"
   ]
  },
  {
   "cell_type": "code",
   "execution_count": 10,
   "metadata": {
    "scrolled": true
   },
   "outputs": [],
   "source": [
    "# DTM 구하기\n",
    "docs = [\n",
    "  '먹고 싶은 사과',\n",
    "  '먹고 싶은 바나나',\n",
    "  '길고 노란 바나나 바나나',\n",
    "  '저는 과일이 좋아요'\n",
    "] \n",
    "vocab = list(set(w for doc in docs for w in doc.split()))\n",
    "vocab.sort()\n",
    "\n",
    "# 문서 d에 vocab의 단어 t가 몇 번 등장하는지\n",
    "# Term frequency를 구한다.\n",
    "A = []\n",
    "for i in range(len(docs)):\n",
    "    A.append([])\n",
    "    d = docs[i]\n",
    "    for t in vocab:\n",
    "        A[-1].append(d.count(t))\n",
    "\n",
    "A = pd.DataFrame(A, columns=vocab)"
   ]
  },
  {
   "attachments": {
    "image.png": {
     "image/png": "[encoded data removed]"
    }
   },
   "cell_type": "markdown",
   "metadata": {},
   "source": [
    "![image.png](attachment:image.png)"
   ]
  },
  {
   "cell_type": "code",
   "execution_count": 3,
   "metadata": {},
   "outputs": [
    {
     "name": "stdout",
     "output_type": "stream",
     "text": [
      "U (4, 4) \n",
      " [[-0.24  0.75  0.   -0.62]\n",
      " [-0.51  0.44 -0.    0.74]\n",
      " [-0.83 -0.49 -0.   -0.27]\n",
      " [-0.   -0.    1.    0.  ]]\n",
      "\n",
      "s (4,) \n",
      " [2.69 2.05 1.73 0.77]\n",
      "\n",
      "VT (9, 9) \n",
      " [[-0.   -0.31 -0.31 -0.28 -0.8  -0.09 -0.28 -0.   -0.  ]\n",
      " [ 0.   -0.24 -0.24  0.58 -0.26  0.37  0.58 -0.   -0.  ]\n",
      " [ 0.58 -0.    0.    0.   -0.    0.   -0.    0.58  0.58]\n",
      " [ 0.   -0.35 -0.35  0.16  0.25 -0.8   0.16 -0.   -0.  ]\n",
      " [-0.   -0.78 -0.01 -0.2   0.4   0.4  -0.2   0.    0.  ]\n",
      " [-0.29  0.31 -0.78 -0.24  0.23  0.23  0.01  0.14  0.14]\n",
      " [-0.29 -0.1   0.26 -0.59 -0.08 -0.08  0.66  0.14  0.14]\n",
      " [-0.5  -0.06  0.15  0.24 -0.05 -0.05 -0.19  0.75 -0.25]\n",
      " [-0.5  -0.06  0.15  0.24 -0.05 -0.05 -0.19 -0.25  0.75]]\n"
     ]
    }
   ],
   "source": [
    "# 4 X 9 크기의 DTM에 Full SVD 수행\n",
    "# U: Left singular vector\n",
    "# V: Right signular vector\n",
    "# s: 특이값들의 리스트 -> 대각 행렬로 바꿔줘야 함\n",
    "\n",
    "U, s, VT = np.linalg.svd(A, full_matrices=True)\n",
    "print(\"U\", np.shape(U), \"\\n\", U.round(2))\n",
    "print(\"\\ns\", np.shape(s), \"\\n\", s.round(2))\n",
    "print(\"\\nVT\", np.shape(VT), \"\\n\", VT.round(2))\n"
   ]
  },
  {
   "cell_type": "code",
   "execution_count": 4,
   "metadata": {},
   "outputs": [
    {
     "name": "stdout",
     "output_type": "stream",
     "text": [
      "S (4, 9) \n",
      " [[2.69 0.   0.   0.   0.   0.   0.   0.   0.  ]\n",
      " [0.   2.05 0.   0.   0.   0.   0.   0.   0.  ]\n",
      " [0.   0.   1.73 0.   0.   0.   0.   0.   0.  ]\n",
      " [0.   0.   0.   0.77 0.   0.   0.   0.   0.  ]]\n"
     ]
    }
   ],
   "source": [
    "# s를 토대로 대각행렬 S를 만들어준다.\n",
    "\n",
    "S = np.zeros((4, 9))   # 4 X 9 크기의 임의의 행렬 생성\n",
    "S[:4, :4] = np.diag(s) # 대각원소로 s의 값들을 삽입\n",
    "print(\"S\", np.shape(S), \"\\n\", S.round(2))"
   ]
  },
  {
   "cell_type": "markdown",
   "metadata": {},
   "source": [
    "특이값 분해 식 (이를 토대로 복원도 가능하다.)\n",
    "$$A = U\\Sigma V^T$$"
   ]
  },
  {
   "cell_type": "code",
   "execution_count": 5,
   "metadata": {},
   "outputs": [
    {
     "name": "stdout",
     "output_type": "stream",
     "text": [
      "원본 행렬 복원 결과: True\n"
     ]
    }
   ],
   "source": [
    "# 원본 행렬 복원 후 np.allclose로 동일한지 파악\n",
    "print(\"원본 행렬 복원 결과:\", np.allclose(A, np.dot(np.dot(U, S), VT).round(2)))\n"
   ]
  },
  {
   "cell_type": "code",
   "execution_count": 6,
   "metadata": {},
   "outputs": [
    {
     "name": "stdout",
     "output_type": "stream",
     "text": [
      "상위 2개의 특이값만 남긴 결과:\n",
      "[[2.69 0.  ]\n",
      " [0.   2.05]]\n"
     ]
    }
   ],
   "source": [
    "# Truncated SVD 수행\n",
    "t = 2\n",
    "S = S[:t, :t]\n",
    "print(f\"상위 {t}개의 특이값만 남긴 결과:\")\n",
    "print(S.round(2))"
   ]
  },
  {
   "cell_type": "code",
   "execution_count": 7,
   "metadata": {},
   "outputs": [
    {
     "name": "stdout",
     "output_type": "stream",
     "text": [
      "2개의 열만 남긴 행렬 U:\n",
      "[[-0.24  0.75]\n",
      " [-0.51  0.44]\n",
      " [-0.83 -0.49]\n",
      " [-0.   -0.  ]]\n",
      "\n",
      "2개의 헹만 남긴 행렬 VT:\n",
      "[[-0.   -0.31 -0.31 -0.28 -0.8  -0.09 -0.28 -0.   -0.  ]\n",
      " [ 0.   -0.24 -0.24  0.58 -0.26  0.37  0.58 -0.   -0.  ]]\n"
     ]
    }
   ],
   "source": [
    "# U도 t개의 열만 남기고 제거해준다.\n",
    "U = U[:, :t]\n",
    "\n",
    "print(f\"{t}개의 열만 남긴 행렬 U:\")\n",
    "print(U.round(2))\n",
    "\n",
    "# V의 전치행렬인 VT는 t개의 행만 남기고 제거해준다. (전치했으니까 행)\n",
    "VT = VT[:t, :]\n",
    "print(f\"\\n{t}개의 헹만 남긴 행렬 VT:\")\n",
    "print(VT.round(2))"
   ]
  },
  {
   "cell_type": "code",
   "execution_count": 8,
   "metadata": {},
   "outputs": [
    {
     "name": "stdout",
     "output_type": "stream",
     "text": [
      "[[0 0 0 1 0 1 1 0 0]\n",
      " [0 0 0 1 1 0 1 0 0]\n",
      " [0 1 1 0 2 0 0 0 0]\n",
      " [1 0 0 0 0 0 0 1 1]]\n",
      "\n",
      "[[ 0.   -0.17 -0.17  1.08  0.12  0.62  1.08 -0.   -0.  ]\n",
      " [ 0.    0.2   0.2   0.91  0.86  0.45  0.91  0.    0.  ]\n",
      " [ 0.    0.93  0.93  0.03  2.05 -0.17  0.03  0.    0.  ]\n",
      " [ 0.    0.    0.    0.    0.   -0.    0.    0.    0.  ]]\n"
     ]
    }
   ],
   "source": [
    "# Truncated SVD의 결과로 근사한 행렬 A_prime으로 복원\n",
    "A_prime = np.dot(np.dot(U, S), VT)\n",
    "print(np.array(A))\n",
    "print()\n",
    "print(A_prime.round(2))"
   ]
  }
 ],
 "metadata": {
  "interpreter": {
   "hash": "8528871d428b597dcc3f8776b66406283c7d6269fd59442e98a096a8f75c581e"
  },
  "kernelspec": {
   "display_name": "Python 3 (ipykernel)",
   "language": "python",
   "name": "python3"
  },
  "language_info": {
   "codemirror_mode": {
    "name": "ipython",
    "version": 3
   },
   "file_extension": ".py",
   "mimetype": "text/x-python",
   "name": "python",
   "nbconvert_exporter": "python",
   "pygments_lexer": "ipython3",
   "version": "3.9.7"
  }
 },
 "nbformat": 4,
 "nbformat_minor": 2
}
