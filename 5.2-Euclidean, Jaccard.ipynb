{
 "cells": [
  {
   "cell_type": "markdown",
   "metadata": {},
   "source": [
    "# 딥 러닝을 이용한 자연어 처리 입문\n",
    "\n",
    "아래 링크의 E-book을 보고 실습한 내용입니다.\n",
    "\n",
    "WikiDocs 주소: https://wikidocs.net/31766\n",
    "\n",
    "\n",
    "# 5장 카운트 기반의 단어 표현\n",
    "\n",
    "## 2절 여러가지 유사도 기법 (유클리드 거리, 자카드 유사도)"
   ]
  },
  {
   "cell_type": "markdown",
   "metadata": {},
   "source": [
    "## 유클리드 거리 구하기\n",
    "\n",
    "문서 간의 유클리드 거리가 가까울 수록 유사하다고 볼 수 있다.\n",
    "\n",
    "예제의 결과로 docQ와 가장 가까운 문서는 doc1이라고 볼 수 있다."
   ]
  },
  {
   "cell_type": "code",
   "execution_count": 1,
   "metadata": {},
   "outputs": [
    {
     "name": "stdout",
     "output_type": "stream",
     "text": [
      "2.23606797749979\n",
      "3.1622776601683795\n",
      "2.449489742783178\n"
     ]
    }
   ],
   "source": [
    "import numpy as np\n",
    "\n",
    "def dist(x, y):\n",
    "    \"\"\"유클리드 거리 구하는 함수\"\"\"\n",
    "    return np.sqrt(np.sum((x-y) ** 2))\n",
    "\n",
    "doc1 = np.array([2, 3, 0, 1])\n",
    "doc2 = np.array([1, 2, 3, 1])\n",
    "doc3 = np.array([2, 1, 2, 2])\n",
    "\n",
    "# 거리를 비교할 대상\n",
    "docQ = np.array([1, 1, 0, 1])\n",
    "\n",
    "print(dist(doc1, docQ))\n",
    "print(dist(doc2, docQ))\n",
    "print(dist(doc3, docQ))"
   ]
  },
  {
   "cell_type": "markdown",
   "metadata": {},
   "source": [
    "## 자카드 유사도\n",
    "\n",
    "$$J(A,B)=\\frac{|A \\cap B|}{|A \\cup B} = \\frac{|A \\cap B|}{|A| + |B| - |A \\cap B|}$$"
   ]
  },
  {
   "cell_type": "code",
   "execution_count": 2,
   "metadata": {},
   "outputs": [
    {
     "name": "stdout",
     "output_type": "stream",
     "text": [
      "doc1: ['lorem', 'ipsum', 'dolor', 'sit', 'amet,', 'consectetur', 'adipiscing', 'elit.', 'praesent', 'et.']\n",
      "doc2: ['lorem', 'ipsum', 'dolor', 'sit', 'amet,', 'consectetur', 'adipiscing', 'elit.', 'mauris', 'efficitur.']\n",
      "\n",
      "합집합: {'consectetur', 'mauris', 'efficitur.', 'ipsum', 'lorem', 'sit', 'amet,', 'et.', 'adipiscing', 'dolor', 'elit.', 'praesent'}\n",
      "교집합: {'sit', 'amet,', 'consectetur', 'adipiscing', 'dolor', 'elit.', 'ipsum', 'lorem'}\n",
      "\n",
      "자카드 유사도: 0.6666666666666666\n"
     ]
    }
   ],
   "source": [
    "doc1 = \"Lorem ipsum dolor sit amet, consectetur adipiscing elit. Praesent et.\"\n",
    "doc2 = \"Lorem ipsum dolor sit amet, consectetur adipiscing elit. Mauris efficitur.\"\n",
    "\n",
    "# 토큰화\n",
    "tokenized_doc1 = doc1.lower().split()\n",
    "tokenized_doc2 = doc2.lower().split()\n",
    "\n",
    "# 토큰화 결과\n",
    "print(\"doc1:\", tokenized_doc1)\n",
    "print(\"doc2:\", tokenized_doc2)\n",
    "\n",
    "# 집합 자료형으로 바꾸기\n",
    "tokenized_doc1 = set(tokenized_doc1)\n",
    "tokenized_doc2 = set(tokenized_doc2)\n",
    "\n",
    "# 교집합, 합집합 구하기\n",
    "union = tokenized_doc1.union(tokenized_doc2)\n",
    "intersection = tokenized_doc1.intersection(tokenized_doc2)\n",
    "print(\"\\n합집합:\", union)\n",
    "print(\"교집합:\", intersection)\n",
    "\n",
    "\n",
    "# 자카드 유사도 구하기\n",
    "print(\"\\n자카드 유사도:\", len(intersection) / len(union))"
   ]
  }
 ],
 "metadata": {
  "interpreter": {
   "hash": "bb9f406c0f70fca9801e60f2cbb7cd1ccff2ae2f74c58f513340bcf6cae5ecd0"
  },
  "kernelspec": {
   "display_name": "Python 3.9.5 64-bit ('base': conda)",
   "name": "python3"
  },
  "language_info": {
   "codemirror_mode": {
    "name": "ipython",
    "version": 3
   },
   "file_extension": ".py",
   "mimetype": "text/x-python",
   "name": "python",
   "nbconvert_exporter": "python",
   "pygments_lexer": "ipython3",
   "version": "3.8.10"
  }
 },
 "nbformat": 4,
 "nbformat_minor": 5
}
