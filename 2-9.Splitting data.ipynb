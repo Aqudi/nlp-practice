{
 "cells": [
  {
   "cell_type": "markdown",
   "id": "ec36b0f7",
   "metadata": {},
   "source": [
    "# 딥 러닝을 이용한 자연어 처리 입문\n",
    "\n",
    "아래 링크의 E-book을 보고 실습한 내용입니다.\n",
    "\n",
    "WikiDocs 주소: https://wikidocs.net/31766\n",
    "\n",
    "\n",
    "# 2장 텍스트 전처리\n",
    "\n",
    "## 9절 Splitting data"
   ]
  },
  {
   "cell_type": "markdown",
   "id": "ad934226",
   "metadata": {},
   "source": [
    "## Splitting data\n",
    "\n",
    "지도 학습을 진행할 때 보통 데이터 셋을 아래와 같이 훈련, 검증, 테스트 세 개로 나눈다.\n",
    "\n",
    "- 훈련 데이터 셋: 학습지, 문제지 (ex. 빨간펜, 쎈 수학)\n",
    "- 검증 데이터 셋: 기출 문제 (실제 시험과는 다름)\n",
    "- 테스트 데이터 셋: 실제 시험 (훈련 과정 동안 단 한 번도 보지 못한 데이터 ex. 수능)\n",
    "\n",
    "보통 아래와 같은 비율로 나눈다.\n",
    "\n",
    "- 훈련 : 검증 : 테스트 = 2 : 2 : 6 "
   ]
  },
  {
   "cell_type": "code",
   "execution_count": 14,
   "id": "457111ea",
   "metadata": {
    "scrolled": true
   },
   "outputs": [
    {
     "data": {
      "text/plain": [
       "4.0"
      ]
     },
     "execution_count": 14,
     "metadata": {},
     "output_type": "execute_result"
    }
   ],
   "source": [
    "# 예제 데이터 생성\n",
    "\n",
    "import numpy as np\n",
    "from sklearn.model_selection import train_test_split\n",
    "\n",
    "X, y = np.arange(10).reshape((5, 2)), range(5)"
   ]
  },
  {
   "cell_type": "markdown",
   "id": "a6dc1a88",
   "metadata": {},
   "source": [
    "### X, Y 분리하기"
   ]
  },
  {
   "cell_type": "code",
   "execution_count": 23,
   "id": "ea703c12",
   "metadata": {},
   "outputs": [
    {
     "name": "stdout",
     "output_type": "stream",
     "text": [
      "('a', 'b', 'c')\n",
      "(1, 2, 3)\n",
      "\n",
      "data: [[ 0  1  2  3]\n",
      " [ 4  5  6  7]\n",
      " [ 8  9 10 11]\n",
      " [12 13 14 15]] \n",
      "\n",
      "X: [[ 0  1  2]\n",
      " [ 4  5  6]\n",
      " [ 8  9 10]\n",
      " [12 13 14]]\n",
      "y: [ 3  7 11 15]\n"
     ]
    }
   ],
   "source": [
    "# zip 함수 활용\n",
    "data = [['a', 1], ['b', 2], ['c', 3]]\n",
    "X, y = zip(*data)\n",
    "print(X)\n",
    "print(y)\n",
    "print()\n",
    "\n",
    "# numpy 사용\n",
    "import numpy as np\n",
    "data = np.arange(0,16).reshape((4,4))\n",
    "print(\"data:\", data, \"\\n\")\n",
    "\n",
    "X=data[:, :3]\n",
    "y=data[:,3]\n",
    "print(\"X:\", X)\n",
    "print(\"y:\", y)"
   ]
  },
  {
   "cell_type": "markdown",
   "id": "d18414e1",
   "metadata": {},
   "source": [
    "### Scikit-learn으로 테스트 데이터 분할"
   ]
  },
  {
   "cell_type": "code",
   "execution_count": 3,
   "id": "1362b31b",
   "metadata": {
    "scrolled": false
   },
   "outputs": [
    {
     "name": "stdout",
     "output_type": "stream",
     "text": [
      "X_train: [[2 3]\n",
      " [8 9]\n",
      " [0 1]\n",
      " [6 7]]\n",
      "X_test: [[4 5]]\n",
      "y_train: [1, 4, 0, 3]\n",
      "y_test: [2]\n"
     ]
    }
   ],
   "source": [
    "from sklearn.model_selection import train_test_split\n",
    "\n",
    "X_train, X_test, y_train, y_test = train_test_split(X, y, test_size=0.2, random_state=1)\n",
    "\n",
    "print(\"X_train:\", X_train)\n",
    "print(\"X_test:\", X_test)\n",
    "print(\"y_train:\", y_train)\n",
    "print(\"y_test:\", y_test)"
   ]
  },
  {
   "cell_type": "markdown",
   "id": "f4a45e3f",
   "metadata": {},
   "source": [
    "### numpy로 테스트 데이터 분할"
   ]
  },
  {
   "cell_type": "code",
   "execution_count": 15,
   "id": "b681d900",
   "metadata": {},
   "outputs": [
    {
     "name": "stdout",
     "output_type": "stream",
     "text": [
      "X_train: [[0 1]\n",
      " [2 3]\n",
      " [4 5]\n",
      " [6 7]]\n",
      "X_test: [[8 9]]\n",
      "y_train: range(0, 4)\n",
      "y_test: range(4, 5)\n"
     ]
    }
   ],
   "source": [
    "train_ratio = 0.8\n",
    "\n",
    "X_train = X[:int(len(X)*train_ratio)]\n",
    "y_train = y[:int(len(y)*train_ratio)]\n",
    "\n",
    "X_test = X[int(len(X)*train_ratio):]\n",
    "y_test = y[int(len(y)*train_ratio):]\n",
    "\n",
    "print(\"X_train:\", X_train)\n",
    "print(\"X_test:\", X_test)\n",
    "print(\"y_train:\", y_train)\n",
    "print(\"y_test:\", y_test)"
   ]
  }
 ],
 "metadata": {
  "interpreter": {
   "hash": "bb9f406c0f70fca9801e60f2cbb7cd1ccff2ae2f74c58f513340bcf6cae5ecd0"
  },
  "kernelspec": {
   "display_name": "Python 3 (ipykernel)",
   "language": "python",
   "name": "python3"
  },
  "language_info": {
   "codemirror_mode": {
    "name": "ipython",
    "version": 3
   },
   "file_extension": ".py",
   "mimetype": "text/x-python",
   "name": "python",
   "nbconvert_exporter": "python",
   "pygments_lexer": "ipython3",
   "version": "3.9.5"
  }
 },
 "nbformat": 4,
 "nbformat_minor": 5
}
